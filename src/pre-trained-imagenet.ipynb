{
 "cells": [
  {
   "cell_type": "code",
   "execution_count": null,
   "metadata": {},
   "outputs": [],
   "source": [
    "import tensorflow as tf\n",
    "from tensorflow.keras.preprocessing import image\n",
    "import numpy as np\n",
    "\n",
    "# Load a pre-trained model (e.g., VGG16)\n",
    "# model = tf.keras.applications.VGG16(weights='imagenet')\n",
    "\n",
    "# Load and preprocess the custom image\n",
    "custom_image_path = '/kaggle/input/test-image/bishop_img.jpg'\n",
    "img = image.load_img(custom_image_path, target_size=(224, 224))\n",
    "img_array = image.img_to_array(img)\n",
    "img_array = np.expand_dims(img_array, axis=0)\n",
    "img_array = tf.keras.applications.vgg16.preprocess_input(img_array)\n",
    "\n",
    "# Make predictions on the custom image\n",
    "predictions = model.predict(img_array)\n",
    "\n",
    "# Use argmax to get the index of the class with the highest probability\n",
    "predicted_class_index = np.argmax(predictions, axis=1)[0]\n",
    "\n",
    "# Decode the predictions to get class labels\n",
    "#predicted_class = tf.keras.applications.vgg16.decode_predictions(predictions, top=1)[0][0]\n",
    "\n",
    "# Print the predicted class label and its probability\n",
    "print(\"Predicted class:\",class_labels[predicted_class_index])"
   ]
  }
 ],
 "metadata": {
  "language_info": {
   "name": "python"
  }
 },
 "nbformat": 4,
 "nbformat_minor": 2
}
